{
  "cells": [
    {
      "cell_type": "code",
      "execution_count": 252,
      "metadata": {
        "colab": {
          "base_uri": "https://localhost:8080/"
        },
        "id": "gqvHWU3quMzU",
        "outputId": "b4ef71d8-8314-4c38-bf05-3191e015e17d"
      },
      "outputs": [
        {
          "name": "stdout",
          "output_type": "stream",
          "text": [
            "Drive already mounted at /content/mydrive; to attempt to forcibly remount, call drive.mount(\"/content/mydrive\", force_remount=True).\n"
          ]
        }
      ],
      "source": [
        "from google.colab import drive\n",
        "drive.mount('/content/mydrive')"
      ]
    },
    {
      "cell_type": "code",
      "execution_count": 253,
      "metadata": {
        "id": "-0JvigNwuxfn"
      },
      "outputs": [],
      "source": [
        "import pandas as pd\n",
        "\n",
        "train_path = \"/content/mydrive/MyDrive/SamSung/Train_samsung.csv\"\n",
        "df = pd.read_csv(train_path)"
      ]
    },
    {
      "cell_type": "code",
      "execution_count": 254,
      "metadata": {
        "id": "8YdIk6DVu8sC"
      },
      "outputs": [],
      "source": [
        "import pandas as pd\n",
        "import numpy as np\n",
        "import seaborn as sns\n",
        "import matplotlib.pyplot as plt\n",
        "from sklearn.compose import ColumnTransformer\n",
        "from sklearn.naive_bayes import GaussianNB\n",
        "from sklearn.linear_model import LogisticRegression\n",
        "from sklearn.neighbors import KNeighborsClassifier\n",
        "from sklearn.svm import LinearSVC\n",
        "from sklearn.neural_network import MLPClassifier\n",
        "from sklearn.ensemble import GradientBoostingClassifier\n",
        "from sklearn.ensemble import RandomForestClassifier,IsolationForest,GradientBoostingClassifier\n",
        "from sklearn.impute import KNNImputer, SimpleImputer\n",
        "from sklearn.metrics import accuracy_score\n",
        "from sklearn.model_selection import train_test_split\n",
        "from sklearn.pipeline import Pipeline,make_pipeline\n",
        "from sklearn.model_selection import cross_val_score\n",
        "from sklearn.metrics import fbeta_score\n",
        "from sklearn.metrics import make_scorer\n",
        "from sklearn.model_selection import cross_val_score\n",
        "from sklearn.model_selection import RepeatedStratifiedKFold\n",
        "from sklearn.preprocessing import OneHotEncoder, MinMaxScaler,LabelEncoder,StandardScaler\n",
        "from sklearn.tree import DecisionTreeClassifier"
      ]
    },
    {
      "cell_type": "code",
      "execution_count": 255,
      "metadata": {
        "colab": {
          "base_uri": "https://localhost:8080/"
        },
        "id": "TLK2PIasu__5",
        "outputId": "e46719f2-961e-43d1-c646-2b0e1d8741d7"
      },
      "outputs": [
        {
          "data": {
            "text/plain": [
              "Pipeline(steps=[('knnimputer', KNNImputer(n_neighbors=7)),\n",
              "                ('standardscaler', StandardScaler())])"
            ]
          },
          "execution_count": 255,
          "metadata": {},
          "output_type": "execute_result"
        }
      ],
      "source": [
        "from sklearn.pipeline import make_pipeline\n",
        "cat_pl = make_pipeline(SimpleImputer(\n",
        "    strategy=\"most_frequent\"))\n",
        "num_pl = make_pipeline(KNNImputer(n_neighbors=7), StandardScaler())\n",
        "num_pl\n"
      ]
    },
    {
      "cell_type": "code",
      "execution_count": 256,
      "metadata": {
        "colab": {
          "base_uri": "https://localhost:8080/"
        },
        "id": "oX1glZ8PvCci",
        "outputId": "9ec56974-b98d-49cd-f05c-da32f26f1d77"
      },
      "outputs": [
        {
          "data": {
            "text/plain": [
              "Pipeline(steps=[('knnimputer', KNNImputer(n_neighbors=7)),\n",
              "                ('minmaxscaler', MinMaxScaler())])"
            ]
          },
          "execution_count": 256,
          "metadata": {},
          "output_type": "execute_result"
        }
      ],
      "source": [
        "from sklearn.pipeline import make_pipeline\n",
        "cat_pl = make_pipeline(SimpleImputer(\n",
        "    strategy=\"most_frequent\"), OneHotEncoder())\n",
        "num_pl = make_pipeline(KNNImputer(n_neighbors=7), MinMaxScaler())\n",
        "num_pl\n"
      ]
    },
    {
      "cell_type": "code",
      "execution_count": 257,
      "metadata": {
        "colab": {
          "base_uri": "https://localhost:8080/"
        },
        "id": "Ica1FRqivDcV",
        "outputId": "22497520-fc5d-4b5b-e417-eced6c891d05"
      },
      "outputs": [
        {
          "data": {
            "text/plain": [
              "Index(['X1', 'X2', 'X3', 'X4', 'X5', 'X11'], dtype='object')"
            ]
          },
          "execution_count": 257,
          "metadata": {},
          "output_type": "execute_result"
        }
      ],
      "source": [
        "num_name = df.select_dtypes(['float', 'int']).columns\n",
        "num_name\n",
        "cat_name = df.select_dtypes(['object']).drop(['Class'], axis=1).columns\n",
        "cat_name\n"
      ]
    },
    {
      "cell_type": "code",
      "execution_count": 258,
      "metadata": {
        "colab": {
          "base_uri": "https://localhost:8080/"
        },
        "id": "WStoRKzVvHc6",
        "outputId": "6ad84139-ec79-4f86-a40f-f1169e3d760a"
      },
      "outputs": [
        {
          "data": {
            "text/plain": [
              "ColumnTransformer(transformers=[('num',\n",
              "                                 Pipeline(steps=[('knnimputer',\n",
              "                                                  KNNImputer(n_neighbors=7)),\n",
              "                                                 ('minmaxscaler',\n",
              "                                                  MinMaxScaler())]),\n",
              "                                 Index(['X6', 'X7', 'X8', 'X9', 'X10'], dtype='object')),\n",
              "                                ('cat',\n",
              "                                 Pipeline(steps=[('simpleimputer',\n",
              "                                                  SimpleImputer(strategy='most_frequent')),\n",
              "                                                 ('onehotencoder',\n",
              "                                                  OneHotEncoder())]),\n",
              "                                 Index(['X1', 'X2', 'X3', 'X4', 'X5', 'X11'], dtype='object'))])"
            ]
          },
          "execution_count": 258,
          "metadata": {},
          "output_type": "execute_result"
        }
      ],
      "source": [
        "preprocessor = ColumnTransformer(\n",
        "    transformers = [\n",
        "        ('num',num_pl,num_name),\n",
        "        ('cat',cat_pl,cat_name)\n",
        "    ]\n",
        ")\n",
        "preprocessor"
      ]
    },
    {
      "cell_type": "code",
      "execution_count": 258,
      "metadata": {
        "id": "YCDzOUOnxx_G"
      },
      "outputs": [],
      "source": []
    },
    {
      "cell_type": "code",
      "execution_count": 259,
      "metadata": {
        "colab": {
          "base_uri": "https://localhost:8080/"
        },
        "id": "tJst0T7AxzIA",
        "outputId": "892f6a98-5c2b-4809-d069-1a2558ec67c1"
      },
      "outputs": [
        {
          "data": {
            "text/plain": [
              "Pipeline(steps=[('columntransformer',\n",
              "                 ColumnTransformer(transformers=[('num',\n",
              "                                                  Pipeline(steps=[('knnimputer',\n",
              "                                                                   KNNImputer(n_neighbors=7)),\n",
              "                                                                  ('minmaxscaler',\n",
              "                                                                   MinMaxScaler())]),\n",
              "                                                  Index(['X6', 'X7', 'X8', 'X9', 'X10'], dtype='object')),\n",
              "                                                 ('cat',\n",
              "                                                  Pipeline(steps=[('simpleimputer',\n",
              "                                                                   SimpleImputer(strategy='most_frequent')),\n",
              "                                                                  ('onehotencoder',\n",
              "                                                                   OneHotEncoder())]),\n",
              "                                                  Index(['X1', 'X2', 'X3', 'X4', 'X5', 'X11'], dtype='object'))])),\n",
              "                ('randomforestclassifier', RandomForestClassifier())])"
            ]
          },
          "execution_count": 259,
          "metadata": {},
          "output_type": "execute_result"
        }
      ],
      "source": [
        "compelete_pipeline = make_pipeline(preprocessor,RandomForestClassifier())\n",
        "compelete_pipeline"
      ]
    },
    {
      "cell_type": "code",
      "execution_count": 259,
      "metadata": {
        "id": "kdbF24W_wKBa"
      },
      "outputs": [],
      "source": []
    },
    {
      "cell_type": "code",
      "execution_count": 260,
      "metadata": {
        "colab": {
          "base_uri": "https://localhost:8080/"
        },
        "id": "KNqN0kaUvkL1",
        "outputId": "23dca29a-abe9-424c-f2fe-d50a93e6c619"
      },
      "outputs": [
        {
          "name": "stdout",
          "output_type": "stream",
          "text": [
            "<class 'pandas.core.frame.DataFrame'>\n",
            "RangeIndex: 491 entries, 0 to 490\n",
            "Data columns (total 21 columns):\n",
            " #   Column  Non-Null Count  Dtype  \n",
            "---  ------  --------------  -----  \n",
            " 0   V1      491 non-null    float64\n",
            " 1   V2      491 non-null    float64\n",
            " 2   V3      491 non-null    float64\n",
            " 3   V4      491 non-null    float64\n",
            " 4   V5      491 non-null    float64\n",
            " 5   V6      491 non-null    float64\n",
            " 6   V7      491 non-null    float64\n",
            " 7   V8      491 non-null    float64\n",
            " 8   V9      491 non-null    float64\n",
            " 9   V10     491 non-null    float64\n",
            " 10  V11     491 non-null    float64\n",
            " 11  V12     491 non-null    float64\n",
            " 12  V13     491 non-null    float64\n",
            " 13  V14     491 non-null    float64\n",
            " 14  V15     491 non-null    float64\n",
            " 15  V16     491 non-null    float64\n",
            " 16  V17     491 non-null    float64\n",
            " 17  V18     491 non-null    float64\n",
            " 18  V19     491 non-null    float64\n",
            " 19  V20     491 non-null    float64\n",
            " 20  Class   491 non-null    object \n",
            "dtypes: float64(20), object(1)\n",
            "memory usage: 80.7+ KB\n"
          ]
        }
      ],
      "source": [
        "from imblearn.over_sampling import SMOTE\n",
        "\n",
        "smote = SMOTE(sampling_strategy = 'minority')\n",
        "\n",
        "arr = preprocessor.fit_transform(df)\n",
        "col_name = ['V'+str(i) for i in range(1,21)]\n",
        "df_test = pd.DataFrame(arr,columns=col_name)\n",
        "df_test = pd.concat((df_test,df['Class']),axis=1)\n",
        "df_test.info()"
      ]
    },
    {
      "cell_type": "code",
      "execution_count": 261,
      "metadata": {
        "id": "r7VbUfe8zdrJ"
      },
      "outputs": [],
      "source": [
        "import lightgbm as lgb\n",
        "X = df_test.drop('Class', axis=1)\n",
        "Y = df_test['Class'].astype(\"category\").cat.codes\n",
        "X_train,X_test,Y_train,Y_test = train_test_split(X,Y,test_size=0.2,random_state=1)\n",
        "X_test = X_test.to_numpy()\n",
        "Y_test = Y_test.to_numpy()\n",
        "\n",
        "X_sm , Y_sm = smote.fit_resample(X_train,Y_train)\n",
        "X_sm = X_sm.to_numpy()\n",
        "Y_sm = Y_sm.to_numpy()\n",
        "\n",
        "models = [LinearSVC(),LogisticRegression(),KNeighborsClassifier(n_neighbors=7),GaussianNB(),DecisionTreeClassifier(),GradientBoostingClassifier(n_estimators=200,max_depth=10),MLPClassifier()]\n"
      ]
    },
    {
      "cell_type": "code",
      "execution_count": null,
      "metadata": {
        "id": "Hb09ZpwZe5f-"
      },
      "outputs": [],
      "source": []
    },
    {
      "cell_type": "code",
      "execution_count": 262,
      "metadata": {
        "colab": {
          "base_uri": "https://localhost:8080/"
        },
        "id": "eA9IBqIH0kdL",
        "outputId": "af96aaa6-ea50-4bbb-a923-34fb6e0d26b2"
      },
      "outputs": [
        {
          "name": "stdout",
          "output_type": "stream",
          "text": [
            "LinearSVC()\n",
            "              precision    recall  f1-score   support\n",
            "\n",
            "           0       0.62      0.75      0.68        32\n",
            "           1       0.87      0.78      0.82        67\n",
            "\n",
            "    accuracy                           0.77        99\n",
            "   macro avg       0.74      0.76      0.75        99\n",
            "weighted avg       0.79      0.77      0.77        99\n",
            "\n",
            "LogisticRegression()\n",
            "              precision    recall  f1-score   support\n",
            "\n",
            "           0       0.59      0.75      0.66        32\n",
            "           1       0.86      0.75      0.80        67\n",
            "\n",
            "    accuracy                           0.75        99\n",
            "   macro avg       0.72      0.75      0.73        99\n",
            "weighted avg       0.77      0.75      0.75        99\n",
            "\n",
            "KNeighborsClassifier(n_neighbors=7)\n",
            "              precision    recall  f1-score   support\n",
            "\n",
            "           0       0.41      0.47      0.43        32\n",
            "           1       0.73      0.67      0.70        67\n",
            "\n",
            "    accuracy                           0.61        99\n",
            "   macro avg       0.57      0.57      0.57        99\n",
            "weighted avg       0.62      0.61      0.61        99\n",
            "\n",
            "GaussianNB()\n",
            "              precision    recall  f1-score   support\n",
            "\n",
            "           0       0.60      0.66      0.63        32\n",
            "           1       0.83      0.79      0.81        67\n",
            "\n",
            "    accuracy                           0.75        99\n",
            "   macro avg       0.71      0.72      0.72        99\n",
            "weighted avg       0.75      0.75      0.75        99\n",
            "\n",
            "DecisionTreeClassifier()\n",
            "              precision    recall  f1-score   support\n",
            "\n",
            "           0       0.49      0.56      0.52        32\n",
            "           1       0.77      0.72      0.74        67\n",
            "\n",
            "    accuracy                           0.67        99\n",
            "   macro avg       0.63      0.64      0.63        99\n",
            "weighted avg       0.68      0.67      0.67        99\n",
            "\n",
            "GradientBoostingClassifier(max_depth=10, n_estimators=200)\n",
            "              precision    recall  f1-score   support\n",
            "\n",
            "           0       0.59      0.62      0.61        32\n",
            "           1       0.82      0.79      0.80        67\n",
            "\n",
            "    accuracy                           0.74        99\n",
            "   macro avg       0.70      0.71      0.70        99\n",
            "weighted avg       0.74      0.74      0.74        99\n",
            "\n",
            "MLPClassifier()\n",
            "              precision    recall  f1-score   support\n",
            "\n",
            "           0       0.53      0.66      0.58        32\n",
            "           1       0.81      0.72      0.76        67\n",
            "\n",
            "    accuracy                           0.70        99\n",
            "   macro avg       0.67      0.69      0.67        99\n",
            "weighted avg       0.72      0.70      0.70        99\n",
            "\n"
          ]
        },
        {
          "name": "stderr",
          "output_type": "stream",
          "text": [
            "/usr/local/lib/python3.7/dist-packages/sklearn/neural_network/_multilayer_perceptron.py:696: ConvergenceWarning: Stochastic Optimizer: Maximum iterations (200) reached and the optimization hasn't converged yet.\n",
            "  ConvergenceWarning,\n"
          ]
        }
      ],
      "source": [
        "from sklearn.metrics import classification_report\n",
        "\n",
        "for model in models:\n",
        "    model.fit(X_sm,Y_sm)\n",
        "    y_pred = model.predict(X_test)\n",
        "    print(model)\n",
        "    print(classification_report(Y_test,y_pred))"
      ]
    },
    {
      "cell_type": "code",
      "execution_count": 263,
      "metadata": {
        "colab": {
          "base_uri": "https://localhost:8080/"
        },
        "id": "rYi-zQ2X5RRj",
        "outputId": "96c1aa57-1183-4ce3-efde-274089a3c564"
      },
      "outputs": [
        {
          "data": {
            "text/plain": [
              "GridSearchCV(estimator=GradientBoostingClassifier(),\n",
              "             param_grid={'n_estimators': [100, 200, 300]})"
            ]
          },
          "execution_count": 263,
          "metadata": {},
          "output_type": "execute_result"
        }
      ],
      "source": [
        "from sklearn.model_selection import GridSearchCV\n",
        "\n",
        "prameter = {\n",
        "    'n_estimators' : [100,200,300],\n",
        "}\n",
        "clf = GridSearchCV(GradientBoostingClassifier(),prameter)\n",
        "clf.fit(X_train,Y_train)"
      ]
    },
    {
      "cell_type": "code",
      "execution_count": 264,
      "metadata": {
        "colab": {
          "base_uri": "https://localhost:8080/"
        },
        "id": "5AgGytlo5hJO",
        "outputId": "219098a0-91b5-488f-c168-e35e1bf88004"
      },
      "outputs": [
        {
          "data": {
            "text/plain": [
              "{'n_estimators': 100}"
            ]
          },
          "execution_count": 264,
          "metadata": {},
          "output_type": "execute_result"
        }
      ],
      "source": [
        "clf.best_params_"
      ]
    },
    {
      "cell_type": "code",
      "execution_count": 265,
      "metadata": {
        "colab": {
          "base_uri": "https://localhost:8080/"
        },
        "id": "a6zv8QEu-txX",
        "outputId": "d28498df-f9eb-4bc2-ea97-249a4c789a38"
      },
      "outputs": [
        {
          "name": "stdout",
          "output_type": "stream",
          "text": [
            "67\n"
          ]
        }
      ],
      "source": [
        "print(np.sum(Y_test))\n"
      ]
    },
    {
      "cell_type": "code",
      "execution_count": 267,
      "metadata": {
        "colab": {
          "base_uri": "https://localhost:8080/"
        },
        "id": "JRC1u-k55tj6",
        "outputId": "9653262f-b25c-450e-b3e4-95059f4d71fb"
      },
      "outputs": [
        {
          "name": "stdout",
          "output_type": "stream",
          "text": [
            "              precision    recall  f1-score   support\n",
            "\n",
            "           0       0.78      0.56      0.65        32\n",
            "           1       0.82      0.93      0.87        67\n",
            "\n",
            "    accuracy                           0.81        99\n",
            "   macro avg       0.80      0.74      0.76        99\n",
            "weighted avg       0.81      0.81      0.80        99\n",
            "\n"
          ]
        },
        {
          "name": "stderr",
          "output_type": "stream",
          "text": [
            "/usr/local/lib/python3.7/dist-packages/sklearn/base.py:451: UserWarning: X does not have valid feature names, but GradientBoostingClassifier was fitted with feature names\n",
            "  \"X does not have valid feature names, but\"\n"
          ]
        }
      ],
      "source": [
        "from sklearn.metrics import f1_score\n",
        "model = GradientBoostingClassifier(n_estimators=100)\n",
        "model.fit(X_train,Y_train)\n",
        "y_pred=  model.predict(X_test)\n",
        "print(classification_report(Y_test,y_pred))"
      ]
    }
  ],
  "metadata": {
    "colab": {
      "provenance": []
    },
    "kernelspec": {
      "display_name": "Python 3.10.0 64-bit",
      "language": "python",
      "name": "python3"
    },
    "language_info": {
      "name": "python",
      "version": "3.10.0"
    },
    "vscode": {
      "interpreter": {
        "hash": "27f6fea6f47ae512550f0b8facdbd035a93e1dd89633f7bf2dd00a2502c71d0d"
      }
    }
  },
  "nbformat": 4,
  "nbformat_minor": 0
}
