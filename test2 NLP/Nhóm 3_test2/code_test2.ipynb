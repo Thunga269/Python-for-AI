{
  "cells": [
    {
      "cell_type": "code",
      "execution_count": 1,
      "metadata": {
        "colab": {
          "base_uri": "https://localhost:8080/"
        },
        "id": "-NCzJkEM6DLd",
        "outputId": "fb2858ce-bb06-4d26-9ab1-55471b14683c"
      },
      "outputs": [
        {
          "name": "stdout",
          "output_type": "stream",
          "text": [
            "Mounted at /content/gdrive\n"
          ]
        }
      ],
      "source": [
        "from google.colab import drive\n",
        "drive.mount('/content/gdrive')"
      ]
    },
    {
      "cell_type": "code",
      "execution_count": 2,
      "metadata": {
        "id": "zLJxh27o7E-y"
      },
      "outputs": [],
      "source": [
        "import zipfile\n",
        "zip_ref = zipfile.ZipFile('/content/gdrive/My Drive/Datasets/BaiThi2.zip')\n",
        "zip_ref.extractall()"
      ]
    },
    {
      "cell_type": "code",
      "execution_count": 178,
      "metadata": {
        "id": "AAfs9-nF7qPB"
      },
      "outputs": [],
      "source": [
        "import os\n",
        "import numpy as np\n"
      ]
    },
    {
      "cell_type": "code",
      "execution_count": 179,
      "metadata": {
        "id": "_nMg2vLc7TCI"
      },
      "outputs": [],
      "source": [
        "data_spam = os.listdir(\"/content/TrainData/spam/\")\n",
        "data_not_spam = os.listdir(\"/content/TrainData/notspam/\")\n"
      ]
    },
    {
      "cell_type": "code",
      "execution_count": 180,
      "metadata": {
        "colab": {
          "base_uri": "https://localhost:8080/"
        },
        "id": "5pXVZdHm_Ay9",
        "outputId": "a323db7b-f2df-4e55-9049-a0641da5f74d"
      },
      "outputs": [
        {
          "data": {
            "text/plain": [
              "18"
            ]
          },
          "execution_count": 180,
          "metadata": {},
          "output_type": "execute_result"
        }
      ],
      "source": [
        "dt_spam = []\n",
        "label_spam = []\n",
        "for i in data_spam:\n",
        "  path = os.path.join(\"/content/TrainData/spam/\", i)\n",
        "  with open(path, 'r') as f:\n",
        "    dt_spam.append(f.readlines())\n",
        "    label_spam.append(int(0))\n",
        "len(dt_spam)"
      ]
    },
    {
      "cell_type": "code",
      "execution_count": 181,
      "metadata": {
        "colab": {
          "base_uri": "https://localhost:8080/"
        },
        "id": "1zg_O790ACil",
        "outputId": "6311de71-e929-4825-c7f9-9880d8ceafc0"
      },
      "outputs": [
        {
          "data": {
            "text/plain": [
              "193"
            ]
          },
          "execution_count": 181,
          "metadata": {},
          "output_type": "execute_result"
        }
      ],
      "source": [
        "dt_not_spam = []\n",
        "label_not_spam = []\n",
        "for i in data_not_spam:\n",
        "  path = os.path.join(\"/content/TrainData/notspam/\", i)\n",
        "  with open(path, 'r') as f:\n",
        "    dt_not_spam.append(f.readlines())\n",
        "    label_not_spam.append(int(1))\n",
        "len(dt_not_spam)"
      ]
    },
    {
      "cell_type": "code",
      "execution_count": 182,
      "metadata": {
        "colab": {
          "base_uri": "https://localhost:8080/"
        },
        "id": "qYM7tvAaCKU6",
        "outputId": "bf4e991d-40d7-4d12-c310-0fa3909ec487"
      },
      "outputs": [
        {
          "name": "stdout",
          "output_type": "stream",
          "text": [
            "162\n",
            "49\n"
          ]
        }
      ],
      "source": [
        "import random\n",
        "data_train = dt_spam[:12]+dt_not_spam[:150]\n",
        "random.seed(0)\n",
        "random.shuffle(data_train)\n",
        "\n",
        "label_train = label_spam[:12]+label_not_spam[:150]\n",
        "random.seed(0)\n",
        "random.shuffle(label_train)\n",
        "\n",
        "\n",
        "data_test = dt_spam[12:]+dt_not_spam[150:]\n",
        "label_test = label_spam[12:]+label_not_spam[150:]\n",
        "print(len(data_train))\n",
        "print(len(data_test))"
      ]
    },
    {
      "cell_type": "markdown",
      "metadata": {
        "id": "Slvt1dOc9FGo"
      },
      "source": [
        "text processing"
      ]
    },
    {
      "cell_type": "code",
      "execution_count": 183,
      "metadata": {
        "id": "4DtxcR_Z9H8r"
      },
      "outputs": [],
      "source": [
        "import string\n",
        "import re\n",
        "import sklearn\n",
        "from sklearn.feature_extraction._stop_words import ENGLISH_STOP_WORDS"
      ]
    },
    {
      "cell_type": "code",
      "execution_count": 184,
      "metadata": {
        "id": "WhXTmMBipa5a"
      },
      "outputs": [],
      "source": [
        "from nltk.stem.porter import PorterStemmer"
      ]
    },
    {
      "cell_type": "code",
      "execution_count": 233,
      "metadata": {
        "id": "Fxo5VFkY9C0b"
      },
      "outputs": [],
      "source": [
        "#cleaning the raw data\n",
        "def remove_hyperlink(word):\n",
        "    return  re.sub(r\"http\\S+\", \"\", word)\n",
        "\n",
        "def to_lower(word):\n",
        "    result = word.lower()\n",
        "    return result\n",
        "\n",
        "def remove_number(word):\n",
        "    result = re.sub(r'\\d+', '', word)\n",
        "    return result\n",
        "\n",
        "def remove_punctuation(word):\n",
        "    result = word.translate(str.maketrans(dict.fromkeys(string.punctuation)))\n",
        "    return result\n",
        "\n",
        "def remove_whitespace(word):\n",
        "    result = word.strip()\n",
        "    s = result.split()\n",
        "    return (' '.join (str (x) for x in s))\n",
        "\n",
        "def skimming(word):\n",
        "  stemmer = PorterStemmer()\n",
        "  singles = [stemmer.stem(x) for x in word.split()]\n",
        "  return(' '.join(singles))\n",
        "\n",
        "def replace_newline(word):\n",
        "    return word.replace('\\n','')\n",
        "\n",
        "\n",
        "def clean_up_pipeline(sentence):\n",
        "    cleaning_utils = [remove_hyperlink,\n",
        "                      replace_newline,\n",
        "                      to_lower,\n",
        "                      remove_number,\n",
        "                      remove_punctuation,remove_whitespace,\n",
        "                      skimming]\n",
        "    for o in cleaning_utils:\n",
        "        sentence = o(sentence)\n",
        "    return sentence"
      ]
    },
    {
      "cell_type": "code",
      "execution_count": 234,
      "metadata": {
        "colab": {
          "base_uri": "https://localhost:8080/",
          "height": 70
        },
        "id": "r9iR0YDP9LJo",
        "outputId": "e089f68d-2185-420b-9239-4f4332e37fb6"
      },
      "outputs": [
        {
          "data": {
            "application/vnd.google.colaboratory.intrinsic+json": {
              "type": "string"
            },
            "text/plain": [
              "'subject re languag acquisit analog pragmaticsn n ye inde care star sentenc sentenc star doe mean passerbi one even brentwood sever week ago wit cruel doubl murder testimoni broken english requir servic profession linguist interpret latter wa nt sure onc o j simpson star sentenc result is futur histori jule levin n'"
            ]
          },
          "execution_count": 234,
          "metadata": {},
          "output_type": "execute_result"
        }
      ],
      "source": [
        "X_train = [clean_up_pipeline(str(x)) for x in data_train]\n",
        "X_test = [clean_up_pipeline(str(x)) for x in data_test]\n",
        "\n",
        "X_train[0]"
      ]
    },
    {
      "cell_type": "markdown",
      "metadata": {
        "id": "ynnu2SYm9Fop"
      },
      "source": [
        "2. Tokenize"
      ]
    },
    {
      "cell_type": "code",
      "execution_count": 235,
      "metadata": {
        "colab": {
          "base_uri": "https://localhost:8080/"
        },
        "id": "tx1EhcP_9MDy",
        "outputId": "b37e1e1b-36e8-42ea-d7c1-0c804981e919"
      },
      "outputs": [
        {
          "name": "stderr",
          "output_type": "stream",
          "text": [
            "/usr/local/lib/python3.7/dist-packages/ipykernel_launcher.py:6: VisibleDeprecationWarning: Creating an ndarray from ragged nested sequences (which is a list-or-tuple of lists-or-tuples-or ndarrays with different lengths or shapes) is deprecated. If you meant to do this, you must specify 'dtype=object' when creating the ndarray.\n",
            "  \n",
            "/usr/local/lib/python3.7/dist-packages/ipykernel_launcher.py:7: VisibleDeprecationWarning: Creating an ndarray from ragged nested sequences (which is a list-or-tuple of lists-or-tuples-or ndarrays with different lengths or shapes) is deprecated. If you meant to do this, you must specify 'dtype=object' when creating the ndarray.\n",
            "  import sys\n"
          ]
        },
        {
          "data": {
            "text/plain": [
              "52"
            ]
          },
          "execution_count": 235,
          "metadata": {},
          "output_type": "execute_result"
        }
      ],
      "source": [
        "from keras.preprocessing.text import Tokenizer\n",
        "tokenizer = Tokenizer()\n",
        "\n",
        "tokenizer.fit_on_texts(X_train)\n",
        "\n",
        "x_train_features = np.array(tokenizer.texts_to_sequences(X_train))\n",
        "x_test_features = np.array(tokenizer.texts_to_sequences(X_test))\n",
        "\n",
        "len(x_train_features[0])"
      ]
    },
    {
      "cell_type": "code",
      "execution_count": null,
      "metadata": {
        "colab": {
          "base_uri": "https://localhost:8080/"
        },
        "id": "kBcpAEvvuUXT",
        "outputId": "ed13819b-d0ad-49ed-8fc6-bbb1fccb28f6"
      },
      "outputs": [],
      "source": [
        "for i in range(5):\n",
        "    print(\"Text               : \",X_train[i] )\n",
        "    print(\"Numerical Sequence : \", x_train_features[i])"
      ]
    },
    {
      "cell_type": "code",
      "execution_count": null,
      "metadata": {
        "colab": {
          "base_uri": "https://localhost:8080/"
        },
        "id": "OW6vS2XnpD3s",
        "outputId": "7c96b4b6-8069-4af6-8694-57edf296436d"
      },
      "outputs": [],
      "source": [
        "tokenizer.index_word"
      ]
    },
    {
      "cell_type": "code",
      "execution_count": 238,
      "metadata": {
        "colab": {
          "base_uri": "https://localhost:8080/"
        },
        "id": "GBC8HD5ZrREf",
        "outputId": "15bbf068-7ebe-4009-f59f-d309ca687783"
      },
      "outputs": [
        {
          "data": {
            "text/plain": [
              "array([1, 1, 1, 1, 1, 1, 1, 1, 0, 1, 1, 0, 1, 1, 1, 1, 1, 1, 1, 1, 1, 1,\n",
              "       1, 1, 1, 1, 1, 1, 1, 1, 1, 0, 1, 1, 1, 1, 0, 1, 1, 1, 1, 1, 1, 1,\n",
              "       1, 1, 1, 1, 1, 1, 1, 1, 1, 1, 1, 1, 1, 1, 1, 0, 1, 0, 1, 1, 1, 1,\n",
              "       1, 1, 1, 0, 1, 1, 1, 1, 1, 1, 1, 1, 1, 1, 1, 1, 1, 1, 1, 1, 1, 1,\n",
              "       1, 1, 1, 1, 1, 1, 1, 1, 1, 1, 1, 1, 1, 1, 1, 1, 1, 1, 1, 0, 1, 1,\n",
              "       1, 1, 1, 1, 1, 1, 1, 0, 1, 1, 1, 1, 1, 1, 1, 1, 0, 0, 1, 1, 1, 1,\n",
              "       1, 1, 1, 1, 1, 1, 1, 1, 1, 1, 1, 1, 1, 1, 1, 1, 1, 1, 1, 1, 1, 1,\n",
              "       1, 1, 1, 1, 1, 0, 1, 1])"
            ]
          },
          "execution_count": 238,
          "metadata": {},
          "output_type": "execute_result"
        }
      ],
      "source": [
        "from sklearn.preprocessing import LabelEncoder\n",
        "le = LabelEncoder()\n",
        "y_train = le.fit_transform(label_train)\n",
        "y_test = le.transform(label_test)\n",
        "y_train"
      ]
    },
    {
      "cell_type": "code",
      "execution_count": 239,
      "metadata": {
        "colab": {
          "base_uri": "https://localhost:8080/"
        },
        "id": "UKDk6HY8tzZf",
        "outputId": "e8868446-e696-4fe5-e553-6a731dd7ab4e"
      },
      "outputs": [
        {
          "name": "stdout",
          "output_type": "stream",
          "text": [
            "max_feature 7016\n",
            "max_len 2277\n"
          ]
        }
      ],
      "source": [
        "embed_size = 20 # how big is each word vector\n",
        "max_feature = len(tokenizer.word_index)+1\n",
        "max_len = max_length_sequence = max([len(i) for i in x_train_features])\n",
        "print(\"max_feature\", max_feature)\n",
        "print(\"max_len\", max_len)"
      ]
    },
    {
      "cell_type": "code",
      "execution_count": 240,
      "metadata": {
        "colab": {
          "base_uri": "https://localhost:8080/"
        },
        "id": "RMoQTyA_u_sL",
        "outputId": "dea590c0-442e-46ec-ac09-b9c01ca46207"
      },
      "outputs": [
        {
          "data": {
            "text/plain": [
              "array([   0,    0,    0, ..., 2276, 3421,    2], dtype=int32)"
            ]
          },
          "execution_count": 240,
          "metadata": {},
          "output_type": "execute_result"
        }
      ],
      "source": [
        "from keras_preprocessing.sequence import pad_sequences\n",
        "x_train_features = pad_sequences(x_train_features,maxlen=max_len)\n",
        "x_test_features = pad_sequences(x_test_features,maxlen=max_len)\n",
        "x_train_features[0]"
      ]
    },
    {
      "cell_type": "markdown",
      "metadata": {
        "id": "be8m6TtN9Y0U"
      },
      "source": [
        "4.Model"
      ]
    },
    {
      "cell_type": "code",
      "execution_count": 241,
      "metadata": {
        "id": "lycZmWxal4me"
      },
      "outputs": [],
      "source": [
        "from keras.layers import Dense, Input, LSTM, Embedding, Dropout, Activation\n",
        "from keras.layers import Bidirectional\n",
        "from keras.models import Model\n",
        "import tensorflow as tf"
      ]
    },
    {
      "cell_type": "code",
      "execution_count": 242,
      "metadata": {
        "colab": {
          "base_uri": "https://localhost:8080/"
        },
        "id": "s8iATSKIjtrx",
        "outputId": "215b9dcf-fa00-4d92-f6d0-d83f00d8096a"
      },
      "outputs": [
        {
          "name": "stdout",
          "output_type": "stream",
          "text": [
            "Model: \"sequential_34\"\n",
            "_________________________________________________________________\n",
            " Layer (type)                Output Shape              Param #   \n",
            "=================================================================\n",
            " embedding_34 (Embedding)    (None, 2277, 32)          224512    \n",
            "                                                                 \n",
            " lstm_34 (LSTM)              (None, 64)                24832     \n",
            "                                                                 \n",
            " dropout_68 (Dropout)        (None, 64)                0         \n",
            "                                                                 \n",
            " dense_68 (Dense)            (None, 20)                1300      \n",
            "                                                                 \n",
            " dropout_69 (Dropout)        (None, 20)                0         \n",
            "                                                                 \n",
            " dense_69 (Dense)            (None, 1)                 21        \n",
            "                                                                 \n",
            "=================================================================\n",
            "Total params: 250,665\n",
            "Trainable params: 250,665\n",
            "Non-trainable params: 0\n",
            "_________________________________________________________________\n"
          ]
        }
      ],
      "source": [
        "def create_model():\n",
        "    \n",
        "      lstm_model = tf.keras.Sequential()\n",
        "      lstm_model.add(Embedding(max_feature, 32, input_length=max_len))\n",
        "      lstm_model.add(LSTM(64))\n",
        "      lstm_model.add(Dropout(0.5))\n",
        "      lstm_model.add(Dense(20, activation=\"relu\"))\n",
        "      lstm_model.add(Dropout(0.4))\n",
        "      lstm_model.add(Dense(1, activation = \"sigmoid\"))\n",
        "      return lstm_model\n",
        "\n",
        "lstm_model = create_model()\n",
        "lstm_model.compile(loss = \"binary_crossentropy\", optimizer = \"adam\", metrics = [\"accuracy\"])\n",
        "lstm_model.summary()"
      ]
    },
    {
      "cell_type": "code",
      "execution_count": 243,
      "metadata": {
        "colab": {
          "base_uri": "https://localhost:8080/"
        },
        "id": "yOD8JT-Yqrv3",
        "outputId": "10d14cdf-a2b0-4e5e-a66a-e9c1b782c1f9"
      },
      "outputs": [
        {
          "name": "stdout",
          "output_type": "stream",
          "text": [
            "Epoch 1/15\n",
            "11/11 [==============================] - 4s 134ms/step - loss: 0.6797 - accuracy: 0.8148 - val_loss: 0.6554 - val_accuracy: 0.8776\n",
            "Epoch 2/15\n",
            "11/11 [==============================] - 1s 83ms/step - loss: 0.5900 - accuracy: 0.9198 - val_loss: 0.3743 - val_accuracy: 0.8776\n",
            "Epoch 3/15\n",
            "11/11 [==============================] - 1s 83ms/step - loss: 0.3567 - accuracy: 0.9321 - val_loss: 0.4711 - val_accuracy: 0.8776\n",
            "Epoch 4/15\n",
            "11/11 [==============================] - 1s 83ms/step - loss: 0.2995 - accuracy: 0.9259 - val_loss: 0.4501 - val_accuracy: 0.8776\n",
            "Epoch 5/15\n",
            "11/11 [==============================] - 1s 83ms/step - loss: 0.3303 - accuracy: 0.9259 - val_loss: 0.4056 - val_accuracy: 0.8776\n",
            "Epoch 6/15\n",
            "11/11 [==============================] - 1s 98ms/step - loss: 0.3113 - accuracy: 0.9259 - val_loss: 0.3897 - val_accuracy: 0.8776\n",
            "Epoch 7/15\n",
            "11/11 [==============================] - 1s 83ms/step - loss: 0.2770 - accuracy: 0.9259 - val_loss: 0.3954 - val_accuracy: 0.8776\n",
            "Epoch 8/15\n",
            "11/11 [==============================] - 1s 83ms/step - loss: 0.3197 - accuracy: 0.9259 - val_loss: 0.3878 - val_accuracy: 0.8776\n",
            "Epoch 9/15\n",
            "11/11 [==============================] - 1s 83ms/step - loss: 0.2889 - accuracy: 0.9259 - val_loss: 0.3714 - val_accuracy: 0.8776\n",
            "Epoch 10/15\n",
            "11/11 [==============================] - 1s 81ms/step - loss: 0.2964 - accuracy: 0.9259 - val_loss: 0.3578 - val_accuracy: 0.8776\n",
            "Epoch 11/15\n",
            "11/11 [==============================] - 1s 83ms/step - loss: 0.2727 - accuracy: 0.9198 - val_loss: 0.3201 - val_accuracy: 0.8776\n",
            "Epoch 12/15\n",
            "11/11 [==============================] - 1s 84ms/step - loss: 0.2192 - accuracy: 0.9321 - val_loss: 0.2202 - val_accuracy: 0.8776\n",
            "Epoch 13/15\n",
            "11/11 [==============================] - 1s 83ms/step - loss: 0.1126 - accuracy: 0.9815 - val_loss: 0.4142 - val_accuracy: 0.8776\n",
            "Epoch 14/15\n",
            "11/11 [==============================] - 1s 83ms/step - loss: 0.0703 - accuracy: 0.9877 - val_loss: 0.1016 - val_accuracy: 0.9796\n",
            "Epoch 15/15\n",
            "11/11 [==============================] - 1s 83ms/step - loss: 0.0436 - accuracy: 1.0000 - val_loss: 0.0984 - val_accuracy: 0.9796\n"
          ]
        }
      ],
      "source": [
        "his = lstm_model.fit(x_train_features, y_train, batch_size=16, epochs=15, validation_data=(x_test_features, y_test))"
      ]
    },
    {
      "cell_type": "code",
      "execution_count": 244,
      "metadata": {
        "id": "nlBKY1TqqRAM"
      },
      "outputs": [],
      "source": [
        "lstm_model.save('model_0.9796_2.h5')"
      ]
    },
    {
      "cell_type": "code",
      "execution_count": 245,
      "metadata": {
        "colab": {
          "base_uri": "https://localhost:8080/"
        },
        "id": "gygq04ej70SJ",
        "outputId": "26e7b717-2b8f-4ab4-fd2e-c6bba7852ed2"
      },
      "outputs": [
        {
          "name": "stdout",
          "output_type": "stream",
          "text": [
            "2/2 [==============================] - 1s 55ms/step\n",
            "              precision    recall  f1-score   support\n",
            "\n",
            "           0       1.00      0.83      0.91         6\n",
            "           1       0.98      1.00      0.99        43\n",
            "\n",
            "    accuracy                           0.98        49\n",
            "   macro avg       0.99      0.92      0.95        49\n",
            "weighted avg       0.98      0.98      0.98        49\n",
            "\n"
          ]
        }
      ],
      "source": [
        "y_predict  = [1 if x>=0.5 else 0 for x in lstm_model.predict(x_test_features)]\n",
        "\n",
        "from sklearn.metrics import classification_report\n",
        "\n",
        "print(classification_report(y_test,y_predict))"
      ]
    },
    {
      "cell_type": "markdown",
      "metadata": {
        "id": "EWt1QffqOl6X"
      },
      "source": [
        "label on test"
      ]
    },
    {
      "cell_type": "code",
      "execution_count": 262,
      "metadata": {
        "id": "ujYBTTqTwahX"
      },
      "outputs": [],
      "source": [
        "from tensorflow import keras\n",
        "model = keras.models.load_model('/content/model_0.9796_2.h5')"
      ]
    },
    {
      "cell_type": "code",
      "execution_count": 263,
      "metadata": {
        "id": "mr0t_KO3OhiM"
      },
      "outputs": [],
      "source": [
        "data_not_spam = os.listdir(\"/content/TestData_nolabel/\")\n",
        "\n",
        "test_nolabel = []\n",
        "arr_nolabel=[]\n",
        "for i in data_not_spam:\n",
        "  path = os.path.join(\"/content/TestData_nolabel/\", i)\n",
        "  arr_nolabel.append(i)\n",
        "\n",
        "len(test_nolabel)\n",
        "arr_nolabel=sorted(arr_nolabel, key = lambda x: int(x[0]) if x[1]=='_' else int(x[0:2]))\n"
      ]
    },
    {
      "cell_type": "code",
      "execution_count": 264,
      "metadata": {
        "id": "unrzmKpKxnRu"
      },
      "outputs": [],
      "source": [
        "for i in arr_nolabel:\n",
        "  path = os.path.join(\"/content/TestData_nolabel/\", i)\n",
        "  with open(path, 'r') as f:\n",
        "      test_nolabel.append(f.readlines())\n"
      ]
    },
    {
      "cell_type": "code",
      "execution_count": 265,
      "metadata": {
        "id": "y-hWAMhUO81w"
      },
      "outputs": [],
      "source": [
        "arr_test = [clean_up_pipeline(str(x)) for x in test_nolabel]"
      ]
    },
    {
      "cell_type": "code",
      "execution_count": 266,
      "metadata": {
        "colab": {
          "base_uri": "https://localhost:8080/"
        },
        "id": "FgsMdQQvPctv",
        "outputId": "91e68f02-070b-48aa-c03f-567479552534"
      },
      "outputs": [
        {
          "name": "stderr",
          "output_type": "stream",
          "text": [
            "/usr/local/lib/python3.7/dist-packages/ipykernel_launcher.py:3: VisibleDeprecationWarning: Creating an ndarray from ragged nested sequences (which is a list-or-tuple of lists-or-tuples-or ndarrays with different lengths or shapes) is deprecated. If you meant to do this, you must specify 'dtype=object' when creating the ndarray.\n",
            "  This is separate from the ipykernel package so we can avoid doing imports until\n"
          ]
        }
      ],
      "source": [
        "\n",
        "from keras.preprocessing.text import Tokenizer\n",
        "\n",
        "arr_test_feature = np.array(tokenizer.texts_to_sequences(arr_test))\n"
      ]
    },
    {
      "cell_type": "code",
      "execution_count": 267,
      "metadata": {
        "id": "cWv25_PXPyfV"
      },
      "outputs": [],
      "source": [
        "from keras_preprocessing.sequence import pad_sequences\n",
        "arr_test_feature = pad_sequences(arr_test_feature,maxlen=max_len)\n"
      ]
    },
    {
      "cell_type": "code",
      "execution_count": 270,
      "metadata": {
        "colab": {
          "base_uri": "https://localhost:8080/"
        },
        "id": "49BOXexuOeVu",
        "outputId": "e9ed2eb6-653e-421a-df45-6fb20d520079"
      },
      "outputs": [
        {
          "name": "stdout",
          "output_type": "stream",
          "text": [
            "3/3 [==============================] - 1s 57ms/step\n"
          ]
        }
      ],
      "source": [
        "y_predict_label  = [1 if x>=0.5 else 0 for x in model.predict(arr_test_feature)]"
      ]
    },
    {
      "cell_type": "code",
      "execution_count": null,
      "metadata": {
        "colab": {
          "base_uri": "https://localhost:8080/"
        },
        "id": "60nt5pfLP_Cu",
        "outputId": "5981c1ea-6615-4983-e498-fb1df5c9f890"
      },
      "outputs": [],
      "source": [
        "y_predict_label.count(0)"
      ]
    },
    {
      "cell_type": "code",
      "execution_count": 259,
      "metadata": {
        "colab": {
          "base_uri": "https://localhost:8080/"
        },
        "id": "p5bzUvHh04Fy",
        "outputId": "b17cdd58-198c-4b63-8082-4740d0bf0a19"
      },
      "outputs": [
        {
          "name": "stdout",
          "output_type": "stream",
          "text": [
            "File written successfully\n"
          ]
        }
      ],
      "source": [
        "with open('/content/label_predict.txt', 'w+') as f:\n",
        "     \n",
        "    # write elements of list\n",
        "    for items in y_predict_label:\n",
        "        f.write('%s\\n' %items)\n",
        "     \n",
        "    print(\"File written successfully\")\n",
        " \n",
        " \n",
        "# close the file\n",
        "f.close()"
      ]
    },
    {
      "cell_type": "code",
      "execution_count": 260,
      "metadata": {
        "colab": {
          "base_uri": "https://localhost:8080/"
        },
        "id": "0pcqXkDXuXae",
        "outputId": "175f839f-bfdf-4fd9-a1e1-dc8b4a08fe33"
      },
      "outputs": [
        {
          "data": {
            "text/plain": [
              "78"
            ]
          },
          "execution_count": 260,
          "metadata": {},
          "output_type": "execute_result"
        }
      ],
      "source": [
        "arr_label=list()\n",
        "with open('/content/label_predict.txt', 'r') as f:\n",
        "  arr_label.append(f.readlines())\n",
        "arr_label = np.reshape(arr_label,(78))\n",
        "arr_la = []\n",
        "for i in arr_label:\n",
        "  arr_la.append(int(i[0:1]))\n",
        "arr_la = [\"notspam\" if x==1 else \"spam\" for x in arr_la]\n",
        "len(arr_la)"
      ]
    },
    {
      "cell_type": "code",
      "execution_count": 261,
      "metadata": {
        "colab": {
          "base_uri": "https://localhost:8080/"
        },
        "id": "b4jDovBv3VdU",
        "outputId": "0fb0fbaa-1f7c-4e60-bdda-480f333f01d3"
      },
      "outputs": [
        {
          "name": "stdout",
          "output_type": "stream",
          "text": [
            "File written successfully\n"
          ]
        }
      ],
      "source": [
        "for i in range(78):\n",
        "  with open('/content/file_nhan_0.9796.txt', 'w+') as f:\n",
        "     \n",
        "    # write elements of list\n",
        "    for i in range(78):\n",
        "        f.write('%s' % arr_nolabel[i])\n",
        "        f.write(\",\")\n",
        "        f.write('%s' % arr_la[i])\n",
        "        f.write('\\n')\n",
        "\n",
        "     \n",
        "print(\"File written successfully\")"
      ]
    }
  ],
  "metadata": {
    "accelerator": "GPU",
    "colab": {
      "provenance": []
    },
    "gpuClass": "standard",
    "kernelspec": {
      "display_name": "Python 3",
      "name": "python3"
    },
    "language_info": {
      "name": "python"
    }
  },
  "nbformat": 4,
  "nbformat_minor": 0
}
